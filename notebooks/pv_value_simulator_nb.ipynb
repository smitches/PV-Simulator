{
 "cells": [
  {
   "cell_type": "code",
   "execution_count": 1,
   "metadata": {
    "colab": {},
    "colab_type": "code",
    "id": "_HfMwxoOme2f"
   },
   "outputs": [],
   "source": [
    "import numpy as np\n",
    "import matplotlib.pyplot as plt"
   ]
  },
  {
   "cell_type": "code",
   "execution_count": 2,
   "metadata": {
    "colab": {},
    "colab_type": "code",
    "id": "gRe1nVx4mi_T"
   },
   "outputs": [],
   "source": [
    "sq, sqrt = np.square, np.sqrt\n",
    "exp, pi  = np.exp, np.pi\n",
    "\n",
    "def bell_curve(mu, std, x, scale = 1):\n",
    "    numerator   = exp( sq(x - mu) / (-2 * sq(std)) )\n",
    "    denominator = sqrt(2 * pi * sq(std))\n",
    "    return  numerator / denominator * scale"
   ]
  },
  {
   "cell_type": "code",
   "execution_count": 3,
   "metadata": {
    "colab": {},
    "colab_type": "code",
    "id": "GMwGul38mvU3"
   },
   "outputs": [],
   "source": [
    "secs_per_h = 60 * 60\n",
    "two_pm = secs_per_h * 14\n",
    "\n",
    "max_pv_kw = 3.25\n",
    "std = 12000"
   ]
  },
  {
   "cell_type": "code",
   "execution_count": 4,
   "metadata": {
    "colab": {},
    "colab_type": "code",
    "id": "OsGsFYL9m-GU"
   },
   "outputs": [],
   "source": [
    "scale = max_pv_kw / bell_curve(two_pm, std, two_pm, 1)"
   ]
  },
  {
   "cell_type": "code",
   "execution_count": 5,
   "metadata": {
    "colab": {},
    "colab_type": "code",
    "id": "ReYmAoOKm_l4"
   },
   "outputs": [],
   "source": [
    "day = range(0, secs_per_h * 24, 100)\n",
    "day_pv_kw_values = [bell_curve(two_pm, std, sec_of_day, scale)\n",
    "                    for sec_of_day in day]"
   ]
  },
  {
   "cell_type": "code",
   "execution_count": 7,
   "metadata": {
    "colab": {
     "base_uri": "https://localhost:8080/",
     "height": 282
    },
    "colab_type": "code",
    "id": "5hDuntm6nBY3",
    "outputId": "743d4a09-6800-4bc9-9357-cda7b0aa1261"
   },
   "outputs": [
    {
     "data": {
      "text/plain": [
       "[<matplotlib.lines.Line2D at 0x7fdc4a3c07f0>]"
      ]
     },
     "execution_count": 7,
     "metadata": {
      "tags": []
     },
     "output_type": "execute_result"
    },
    {
     "data": {
      "image/png": "[encoded data removed]",
      "text/plain": [
       "<Figure size 432x288 with 1 Axes>"
      ]
     },
     "metadata": {
      "tags": []
     },
     "output_type": "display_data"
    }
   ],
   "source": [
    "plt.plot(day, day_pv_kw_values)"
   ]
  },
  {
   "cell_type": "code",
   "execution_count": 8,
   "metadata": {
    "colab": {
     "base_uri": "https://localhost:8080/",
     "height": 134
    },
    "colab_type": "code",
    "id": "fR54enf0nDzp",
    "outputId": "a49c7059-4fd0-4d11-d41d-d3d63ae8ab3f"
   },
   "outputs": [
    {
     "data": {
      "text/plain": [
       "[0.6431707720217475,\n",
       " 1.5819448318699079,\n",
       " 2.714628187086634,\n",
       " 3.25,\n",
       " 2.714628187086634,\n",
       " 1.5819448318699079,\n",
       " 0.6431707720217475]"
      ]
     },
     "execution_count": 8,
     "metadata": {
      "tags": []
     },
     "output_type": "execute_result"
    }
   ],
   "source": [
    "[bell_curve(two_pm, std, x*secs_per_h, scale) for x in [8,10,12,14,16,18,20]]"
   ]
  },
  {
   "cell_type": "code",
   "execution_count": 0,
   "metadata": {
    "colab": {},
    "colab_type": "code",
    "id": "KxSaHe9rnGpx"
   },
   "outputs": [],
   "source": []
  }
 ],
 "metadata": {
  "colab": {
   "collapsed_sections": [],
   "name": "pv_value_simulator_nb",
   "provenance": []
  },
  "kernelspec": {
   "display_name": "Python 3",
   "language": "python",
   "name": "python3"
  },
  "language_info": {
   "codemirror_mode": {
    "name": "ipython",
    "version": 3
   },
   "file_extension": ".py",
   "mimetype": "text/x-python",
   "name": "python",
   "nbconvert_exporter": "python",
   "pygments_lexer": "ipython3",
   "version": "3.7.4"
  }
 },
 "nbformat": 4,
 "nbformat_minor": 1
}
